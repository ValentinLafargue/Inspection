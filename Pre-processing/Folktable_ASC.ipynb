{
 "cells": [
  {
   "cell_type": "markdown",
   "id": "8608e4f1",
   "metadata": {},
   "source": [
    "# Import"
   ]
  },
  {
   "cell_type": "code",
   "execution_count": 1,
   "id": "8993cf63",
   "metadata": {},
   "outputs": [],
   "source": [
    "from folktables import *\n",
    "import matplotlib.pyplot as plt"
   ]
  },
  {
   "cell_type": "code",
   "execution_count": 2,
   "id": "30eee4cd",
   "metadata": {},
   "outputs": [],
   "source": [
    "import torch\n",
    "import torch.nn as nn\n",
    "import schedulefree\n",
    "import numpy as np\n",
    "import matplotlib.pyplot as plt\n",
    "import math"
   ]
  },
  {
   "cell_type": "markdown",
   "id": "53d384d3",
   "metadata": {},
   "source": [
    "# Download"
   ]
  },
  {
   "cell_type": "code",
   "execution_count": 3,
   "id": "cdb80b3f",
   "metadata": {},
   "outputs": [],
   "source": [
    "data_source = ACSDataSource(survey_year='2023', horizon='1-Year', survey='person', root_dir='../Data')"
   ]
  },
  {
   "cell_type": "markdown",
   "id": "9d666ec8",
   "metadata": {},
   "source": [
    "the following code was used to download everything in one go, but our memory does not allow us to have it all in memory as it has to many columns & individuals"
   ]
  },
  {
   "cell_type": "code",
   "execution_count": 4,
   "id": "d29d6bd0",
   "metadata": {},
   "outputs": [],
   "source": [
    "#acs_data = data_source.get_data(download=False)"
   ]
  },
  {
   "cell_type": "markdown",
   "id": "09643838",
   "metadata": {},
   "source": [
    "'AR'download not working for 2018 but seems fine for 2023"
   ]
  },
  {
   "cell_type": "markdown",
   "id": "db7c480c",
   "metadata": {},
   "source": [
    "# Different datasets (variable selection & objective)"
   ]
  },
  {
   "cell_type": "code",
   "execution_count": 5,
   "id": "ebc926db",
   "metadata": {},
   "outputs": [],
   "source": [
    "states = ['AL', 'AK', 'AZ', 'AR', 'CA', 'CO', 'CT', 'DE', 'FL', 'GA', 'HI', 'ID', 'IL', 'IN', 'IA', 'KS', 'KY', 'LA', 'ME', 'MD', 'MA', 'MI', 'MN', 'MS', 'MO', 'MT', 'NE', 'NV', 'NH', 'NJ', 'NM', 'NY', 'NC', 'ND', 'OH', 'OK', 'OR', 'PA', 'RI', 'SC', 'SD', 'TN', 'TX', 'UT', 'VT', 'VA', 'WA', 'WV', 'WI', 'WY', 'PR']"
   ]
  },
  {
   "cell_type": "markdown",
   "id": "cdc788a2",
   "metadata": {},
   "source": [
    "## Income (INC)"
   ]
  },
  {
   "cell_type": "code",
   "execution_count": 5,
   "id": "bd2a0508",
   "metadata": {},
   "outputs": [],
   "source": [
    "all_features, all_labels, all_groups = pd.DataFrame(), pd.DataFrame(), pd.DataFrame()\n",
    "for number, state in enumerate(states):\n",
    "    acs_data = data_source.get_data(states = [state], download=False)\n",
    "    ACSIncomeNew = BasicProblem(\n",
    "    features=[\n",
    "        'COW',\n",
    "        'SCHL',\n",
    "        'MAR',\n",
    "        'OCCP',\n",
    "        'POBP',\n",
    "        'WKHP',\n",
    "        'RAC1P',\n",
    "    ],\n",
    "    target='PINCP',\n",
    "    group='SEX',\n",
    "    preprocess=adult_filter,\n",
    "    postprocess=lambda x: np.nan_to_num(x, -1),)\n",
    "    features, label, group = ACSIncomeNew.df_to_pandas(acs_data)\n",
    "    features['State'] = number\n",
    "    all_features = pd.concat([all_features, features])\n",
    "    all_labels = pd.concat([all_labels, label])\n",
    "    all_groups = pd.concat([all_groups, group])"
   ]
  },
  {
   "cell_type": "code",
   "execution_count": 6,
   "id": "a69930f0",
   "metadata": {},
   "outputs": [],
   "source": [
    "df_all = pd.concat([all_features, all_labels, all_groups], axis = 1).reset_index(drop = True)\n",
    "df_all.to_csv('../Data/ASCIncome_2023.csv', index = False)"
   ]
  },
  {
   "cell_type": "markdown",
   "id": "92fd4573",
   "metadata": {},
   "source": [
    "## Public Coverage (PUC)"
   ]
  },
  {
   "cell_type": "code",
   "execution_count": null,
   "id": "88158f36",
   "metadata": {},
   "outputs": [],
   "source": [
    "all_features, all_labels, all_groups = pd.DataFrame(), pd.DataFrame(), pd.DataFrame()\n",
    "for number, state in enumerate(states):\n",
    "    acs_data = data_source.get_data(states = [state], download=False)\n",
    "    ACSPublicCoverage = folktables.BasicProblem(\n",
    "    features=[\n",
    "        'AGEP',\n",
    "        'SCHL',\n",
    "        'MAR',\n",
    "        'SEX',\n",
    "        'ESP',\n",
    "        'CIT',\n",
    "        'MIG',\n",
    "        'MIL',\n",
    "        'ANC',\n",
    "        'NATIVITY',\n",
    "        'DEAR',\n",
    "        'DEYE',\n",
    "        'DREM',\n",
    "        'PINCP',\n",
    "        'ESR',\n",
    "        'FER',\n",
    "        'RAC1P',\n",
    "    ],\n",
    "    target='PUBCOV',\n",
    "    target_transform=lambda x: x == 1,\n",
    "    group='DIS',\n",
    "    preprocess=public_coverage_filter,\n",
    "    postprocess=lambda x: np.nan_to_num(x, -1),\n",
    ")\n",
    "    features, label, group = ACSPublicCoverage.df_to_pandas(acs_data)\n",
    "    features['State'] = number\n",
    "    all_features = pd.concat([all_features, features])\n",
    "    all_labels   = pd.concat([all_labels, label])\n",
    "    all_groups   = pd.concat([all_groups, group])"
   ]
  },
  {
   "cell_type": "code",
   "execution_count": 10,
   "id": "b7733a98",
   "metadata": {},
   "outputs": [],
   "source": [
    "df_all = pd.concat([all_features, all_labels, all_groups], axis = 1).reset_index(drop = True)\n",
    "df_all.to_csv('../Data/ACSPublicCoverage_2023.csv', index = False)"
   ]
  },
  {
   "cell_type": "markdown",
   "id": "51ee07ea",
   "metadata": {},
   "source": [
    "## Travel Time (TRA)"
   ]
  },
  {
   "cell_type": "code",
   "execution_count": 81,
   "id": "0e4c0b73",
   "metadata": {},
   "outputs": [],
   "source": [
    "all_features, all_labels, all_groups = pd.DataFrame(), pd.DataFrame(), pd.DataFrame()\n",
    "for number, state in enumerate(states):\n",
    "    acs_data = data_source.get_data(states = [state], download=False)\n",
    "    ACSTravelTime = folktables.BasicProblem(\n",
    "    features=[\n",
    "        'AGEP',\n",
    "        'SCHL',\n",
    "        'MAR',\n",
    "        'DIS',\n",
    "        'ESP',\n",
    "        'MIG',\n",
    "        'RAC1P',\n",
    "        'PUMA',\n",
    "        'CIT',\n",
    "        'OCCP',\n",
    "        'POWPUMA',\n",
    "        'POVPIP',\n",
    "    ],\n",
    "    target=\"JWMNP\",\n",
    "    group='SEX',\n",
    "    preprocess=travel_time_filter,\n",
    "    postprocess=lambda x: np.nan_to_num(x, -1),\n",
    ")\n",
    "    features, label, group = ACSTravelTime.df_to_pandas(acs_data)\n",
    "    features['State'] = number\n",
    "    all_features = pd.concat([all_features, features])\n",
    "    all_labels = pd.concat([all_labels, label])\n",
    "    all_groups = pd.concat([all_groups, group])"
   ]
  },
  {
   "cell_type": "code",
   "execution_count": 82,
   "id": "8e6f8e9b",
   "metadata": {},
   "outputs": [
    {
     "name": "stdout",
     "output_type": "stream",
     "text": [
      "29.62347737393765 26.042386065499525\n",
      "26.889517363409137 29.959039799709544\n"
     ]
    }
   ],
   "source": [
    "df_all = pd.concat([all_features, all_labels, all_groups], axis = 1).reset_index(drop = True)\n",
    "col_name, value = 'SEX'  , 1\n",
    "print(df_all[df_all[col_name] == value].JWMNP.mean(), df_all[df_all[col_name] != value].JWMNP.mean())\n",
    "col_name, value = 'RAC1P'  , 1\n",
    "print(df_all[df_all[col_name] == value].JWMNP.mean(), df_all[df_all[col_name] != value].JWMNP.mean())\n",
    "df_all.to_csv('../Data/ACSTravelTime_2023.csv', index = False)"
   ]
  },
  {
   "cell_type": "markdown",
   "id": "4ec5f86b",
   "metadata": {},
   "source": [
    "## Mobility (MOB)"
   ]
  },
  {
   "cell_type": "code",
   "execution_count": 6,
   "id": "018968bb",
   "metadata": {},
   "outputs": [],
   "source": [
    "all_features, all_labels, all_groups = pd.DataFrame(), pd.DataFrame(), pd.DataFrame()\n",
    "for number, state in enumerate(states):\n",
    "    acs_data = data_source.get_data(states = [state], download=False)\n",
    "    ACSMobility = folktables.BasicProblem(\n",
    "    features=[\n",
    "        'AGEP',\n",
    "        'SCHL',\n",
    "        'MAR',\n",
    "        'DIS',\n",
    "        'CIT',\n",
    "        'MIL',\n",
    "        'ANC',\n",
    "        'NATIVITY',\n",
    "        'DEAR',\n",
    "        'DEYE',\n",
    "        'DREM',\n",
    "        'RAC1P',\n",
    "        'GCL',\n",
    "        'COW',\n",
    "        'ESR',\n",
    "        'WKHP',\n",
    "        'JWMNP',\n",
    "        'PINCP',\n",
    "    ],\n",
    "    target=\"MIG\",\n",
    "    target_transform=lambda x: x == 1,\n",
    "    group='SEX',\n",
    "    preprocess=lambda x: x.drop(x.loc[(x['AGEP'] <= 18)].index),\n",
    "    postprocess=lambda x: np.nan_to_num(x, -1),\n",
    ")\n",
    "    features, label, group = ACSMobility.df_to_pandas(acs_data)\n",
    "    features['State'] = number\n",
    "    all_features = pd.concat([all_features, features])\n",
    "    all_labels = pd.concat([all_labels, label])\n",
    "    all_groups = pd.concat([all_groups, group])"
   ]
  },
  {
   "cell_type": "code",
   "execution_count": 9,
   "id": "7747107c",
   "metadata": {},
   "outputs": [
    {
     "name": "stdout",
     "output_type": "stream",
     "text": [
      "0.9884860671770984\n",
      "0.9984058613986356\n",
      "1.0337734490725854\n",
      "1.0903239463260377\n",
      "0.8727521137418879\n"
     ]
    }
   ],
   "source": [
    "df_all = pd.concat([all_features, all_labels, all_groups], axis = 1).reset_index(drop = True)\n",
    "col_name, value = 'SEX'  , 1\n",
    "print(df_all[df_all[col_name] == value].MIG.mean() / df_all[df_all[col_name] != value].MIG.mean())\n",
    "col_name, value = 'DIS'  , 1\n",
    "print(df_all[df_all[col_name] == value].MIG.mean() / df_all[df_all[col_name] != value].MIG.mean())\n",
    "col_name, value = 'RAC1P'  , 1\n",
    "print(df_all[df_all[col_name] == value].MIG.mean() / df_all[df_all[col_name] != value].MIG.mean())\n",
    "col_name, value = 'ESR'  , 3\n",
    "print(df_all[df_all[col_name] != value].MIG.mean() / df_all[df_all[col_name] == value].MIG.mean())\n",
    "col_name, value = 'AGEP'  , 45\n",
    "print(df_all[df_all[col_name] <= value].MIG.mean() / df_all[df_all[col_name] > value].MIG.mean())"
   ]
  },
  {
   "cell_type": "code",
   "execution_count": 10,
   "id": "02e3aed3",
   "metadata": {},
   "outputs": [
    {
     "name": "stdout",
     "output_type": "stream",
     "text": [
      "20 0.7983894503632059\n",
      "25 0.8052649512045502\n",
      "30 0.8157282756063143\n",
      "35 0.8362925633340669\n",
      "40 0.8558562017920844\n",
      "45 0.8727521137418879\n",
      "50 0.8862240389122523\n",
      "55 0.8984202846182348\n",
      "60 0.9096969685551485\n",
      "65 0.9199061450046437\n",
      "70 0.931371423318388\n",
      "75 0.9448937260229253\n"
     ]
    }
   ],
   "source": [
    "col_name = 'AGEP'\n",
    "for value in np.arange(20, 80, 5):\n",
    "    print(value, df_all[df_all[col_name] <= value].MIG.mean() / df_all[df_all[col_name] > value].MIG.mean())"
   ]
  },
  {
   "cell_type": "code",
   "execution_count": 11,
   "id": "5494cf34",
   "metadata": {},
   "outputs": [],
   "source": [
    "df_all.to_csv('../Data/ACSMobility_2023.csv', index = False)"
   ]
  },
  {
   "cell_type": "markdown",
   "id": "db7c07f0",
   "metadata": {},
   "source": [
    "## Employment (EMP)"
   ]
  },
  {
   "cell_type": "code",
   "execution_count": null,
   "id": "62e8f66e",
   "metadata": {},
   "outputs": [],
   "source": [
    "all_features, all_labels, all_groups = pd.DataFrame(), pd.DataFrame(), pd.DataFrame()\n",
    "for number, state in enumerate(states):\n",
    "    acs_data = data_source.get_data(states = [state], download=False)\n",
    "    ACSEmploymentFiltered = folktables.BasicProblem(\n",
    "    features=[\n",
    "        'AGEP',\n",
    "        'SCHL',\n",
    "        'MAR',\n",
    "        'SEX',\n",
    "        'ESP',\n",
    "        'MIG',\n",
    "        'CIT',\n",
    "        'MIL',\n",
    "        'ANC',\n",
    "        'NATIVITY',\n",
    "        'DEAR',\n",
    "        'DEYE',\n",
    "        'DREM',\n",
    "        'RAC1P',\n",
    "        'GCL',\n",
    "    ],\n",
    "    target=\"ESR\",\n",
    "    target_transform=lambda x: x == 1,\n",
    "    group='DIS',\n",
    "    preprocess=employment_filter,\n",
    "    postprocess=lambda x: np.nan_to_num(x, -1),\n",
    ")\n",
    "    features, label, group = ACSEmploymentFiltered.df_to_pandas(acs_data)\n",
    "    features['State'] = number\n",
    "    all_features = pd.concat([all_features, features])\n",
    "    all_labels = pd.concat([all_labels, label])\n",
    "    all_groups = pd.concat([all_groups, group])"
   ]
  },
  {
   "cell_type": "code",
   "execution_count": 14,
   "id": "1dc1560b",
   "metadata": {},
   "outputs": [
    {
     "name": "stdout",
     "output_type": "stream",
     "text": [
      "0.5905168012752001 0.5226723514291431\n",
      "0.23394462104464847 0.625294731030564\n",
      "0.5473502476788681 0.573584804523176\n"
     ]
    }
   ],
   "source": [
    "df_all = pd.concat([all_features, all_labels, all_groups], axis = 1).reset_index(drop = True)\n",
    "col_name, value = 'SEX'  , 1\n",
    "print(df_all[df_all[col_name] == value].ESR.mean(), df_all[df_all[col_name] != value].ESR.mean())\n",
    "col_name, value = 'DIS'  , 1\n",
    "print(df_all[df_all[col_name] == value].ESR.mean(), df_all[df_all[col_name] != value].ESR.mean())\n",
    "col_name, value = 'RAC1P'  , 1\n",
    "print(df_all[df_all[col_name] == value].ESR.mean(), df_all[df_all[col_name] != value].ESR.mean())\n",
    "df_all.to_csv('../Data/ACSEmploymentFiltered_2023.csv', index = False)"
   ]
  },
  {
   "cell_type": "markdown",
   "id": "8fbb742e",
   "metadata": {},
   "source": [
    "# Overview"
   ]
  },
  {
   "cell_type": "code",
   "execution_count": 7,
   "id": "3b6e6ecf",
   "metadata": {},
   "outputs": [
    {
     "data": {
      "text/html": [
       "<div>\n",
       "<style scoped>\n",
       "    .dataframe tbody tr th:only-of-type {\n",
       "        vertical-align: middle;\n",
       "    }\n",
       "\n",
       "    .dataframe tbody tr th {\n",
       "        vertical-align: top;\n",
       "    }\n",
       "\n",
       "    .dataframe thead th {\n",
       "        text-align: right;\n",
       "    }\n",
       "</style>\n",
       "<table border=\"1\" class=\"dataframe\">\n",
       "  <thead>\n",
       "    <tr style=\"text-align: right;\">\n",
       "      <th></th>\n",
       "      <th>COW</th>\n",
       "      <th>SCHL</th>\n",
       "      <th>MAR</th>\n",
       "      <th>OCCP</th>\n",
       "      <th>POBP</th>\n",
       "      <th>WKHP</th>\n",
       "      <th>RAC1P</th>\n",
       "      <th>State</th>\n",
       "      <th>PINCP</th>\n",
       "      <th>SEX</th>\n",
       "    </tr>\n",
       "  </thead>\n",
       "  <tbody>\n",
       "    <tr>\n",
       "      <th>0</th>\n",
       "      <td>1.0</td>\n",
       "      <td>18.0</td>\n",
       "      <td>5.0</td>\n",
       "      <td>7810.0</td>\n",
       "      <td>17.0</td>\n",
       "      <td>28.0</td>\n",
       "      <td>1.0</td>\n",
       "      <td>0</td>\n",
       "      <td>2500.0</td>\n",
       "      <td>1</td>\n",
       "    </tr>\n",
       "    <tr>\n",
       "      <th>1</th>\n",
       "      <td>3.0</td>\n",
       "      <td>19.0</td>\n",
       "      <td>5.0</td>\n",
       "      <td>4600.0</td>\n",
       "      <td>1.0</td>\n",
       "      <td>30.0</td>\n",
       "      <td>1.0</td>\n",
       "      <td>0</td>\n",
       "      <td>500.0</td>\n",
       "      <td>1</td>\n",
       "    </tr>\n",
       "    <tr>\n",
       "      <th>2</th>\n",
       "      <td>4.0</td>\n",
       "      <td>19.0</td>\n",
       "      <td>5.0</td>\n",
       "      <td>5240.0</td>\n",
       "      <td>1.0</td>\n",
       "      <td>10.0</td>\n",
       "      <td>1.0</td>\n",
       "      <td>0</td>\n",
       "      <td>3700.0</td>\n",
       "      <td>2</td>\n",
       "    </tr>\n",
       "    <tr>\n",
       "      <th>3</th>\n",
       "      <td>1.0</td>\n",
       "      <td>16.0</td>\n",
       "      <td>5.0</td>\n",
       "      <td>9610.0</td>\n",
       "      <td>5.0</td>\n",
       "      <td>10.0</td>\n",
       "      <td>1.0</td>\n",
       "      <td>0</td>\n",
       "      <td>2000.0</td>\n",
       "      <td>1</td>\n",
       "    </tr>\n",
       "    <tr>\n",
       "      <th>4</th>\n",
       "      <td>1.0</td>\n",
       "      <td>16.0</td>\n",
       "      <td>5.0</td>\n",
       "      <td>4720.0</td>\n",
       "      <td>12.0</td>\n",
       "      <td>30.0</td>\n",
       "      <td>2.0</td>\n",
       "      <td>0</td>\n",
       "      <td>8300.0</td>\n",
       "      <td>1</td>\n",
       "    </tr>\n",
       "  </tbody>\n",
       "</table>\n",
       "</div>"
      ],
      "text/plain": [
       "   COW  SCHL  MAR    OCCP  POBP  WKHP  RAC1P  State   PINCP  SEX\n",
       "0  1.0  18.0  5.0  7810.0  17.0  28.0    1.0      0  2500.0    1\n",
       "1  3.0  19.0  5.0  4600.0   1.0  30.0    1.0      0   500.0    1\n",
       "2  4.0  19.0  5.0  5240.0   1.0  10.0    1.0      0  3700.0    2\n",
       "3  1.0  16.0  5.0  9610.0   5.0  10.0    1.0      0  2000.0    1\n",
       "4  1.0  16.0  5.0  4720.0  12.0  30.0    2.0      0  8300.0    1"
      ]
     },
     "execution_count": 7,
     "metadata": {},
     "output_type": "execute_result"
    }
   ],
   "source": [
    "df_all = pd.read_csv('../Data/ASCIncome_2023.csv')\n",
    "df_all.head()"
   ]
  },
  {
   "cell_type": "markdown",
   "id": "d9657609",
   "metadata": {},
   "source": [
    "## Network preparation"
   ]
  },
  {
   "cell_type": "code",
   "execution_count": 8,
   "id": "433c62c8",
   "metadata": {},
   "outputs": [],
   "source": [
    "class Network(nn.Module):\n",
    "    def __init__(self, init_column, activation_bool = False):\n",
    "        super().__init__()\n",
    "        self.activation_bool = activation_bool\n",
    "        self.seq = nn.Sequential()\n",
    "        self.seq.append(nn.BatchNorm1d(init_column))\n",
    "        self.seq.append(nn.Linear(init_column, 256))\n",
    "        self.seq.append(nn.ReLU())\n",
    "\n",
    "        for i in range(4):\n",
    "            self.seq.append(nn.BatchNorm1d(256))\n",
    "            self.seq.append(nn.Linear(256, 256))\n",
    "            self.seq.append(nn.ReLU())\n",
    "        \n",
    "        self.seq.append(nn.BatchNorm1d(256))\n",
    "        self.seq.append(nn.Linear(256, 1))\n",
    "        self.activation = nn.Sigmoid()\n",
    "\n",
    "    def forward(self, x):\n",
    "        prob = self.seq(x)\n",
    "        if self.activation_bool:\n",
    "            return self.activation(prob)\n",
    "        return prob"
   ]
  },
  {
   "cell_type": "code",
   "execution_count": 9,
   "id": "eba808b4",
   "metadata": {},
   "outputs": [],
   "source": [
    "test_percentage = 0.2\n",
    "X = df_all.iloc[:,:7].values\n",
    "X_cr = (X - X.mean(axis = 0)) / X.std(axis = 0)\n",
    "Y = df_all.PINCP.values\n",
    "S = df_all.SEX.values\n",
    "\n",
    "test_size = int(len(X) * test_percentage)\n",
    "train_size = len(X) - test_size\n",
    "train_size\n",
    "\n",
    "indexs = np.arange(len(X))\n",
    "np.random.shuffle(indexs)\n",
    "X_cr_train, Y_train, S_train = X_cr[indexs[:train_size]], Y[indexs[:train_size]], S[indexs[:train_size]]\n",
    "X_cr_test, Y_test, S_test    = X_cr[indexs[train_size:]], Y[indexs[train_size:]], S[indexs[train_size:]]\n",
    "\n",
    "X_train, X_test, Y_train, Y_test = torch.from_numpy(X_cr_train), torch.from_numpy(X_cr_test), torch.from_numpy(Y_train), torch.from_numpy(Y_test)"
   ]
  },
  {
   "cell_type": "code",
   "execution_count": 10,
   "id": "37efb417",
   "metadata": {},
   "outputs": [],
   "source": [
    "epochs = 3\n",
    "batch_size = 2048"
   ]
  },
  {
   "cell_type": "code",
   "execution_count": 11,
   "id": "61ce76fa",
   "metadata": {},
   "outputs": [],
   "source": [
    "def training_network_threshold(model,\n",
    "                     optimizer,\n",
    "                     threshold  = 50000,\n",
    "                     X_train    = X_train,\n",
    "                     Y_train    = Y_train,\n",
    "                     X_test     = X_test,\n",
    "                     Y_test     = Y_test,\n",
    "                     epochs     = epochs,\n",
    "                     batch_size = batch_size,\n",
    "                     ):\n",
    "    list_loss_train, list_acc_train = np.zeros((epochs, math.ceil(len(X_train)//batch_size))), np.zeros((epochs, math.ceil(len(X_train)//batch_size)))\n",
    "    list_loss_test,  list_acc_test  = np.zeros((epochs, math.ceil(len(X_test)//batch_size))),  np.zeros((epochs, math.ceil(len(X_test)//batch_size)))\n",
    "    for epoch in range(1,epochs+1):\n",
    "        #Train\n",
    "        model.train()\n",
    "        optimizer.train()\n",
    "\n",
    "\n",
    "        for batch_count in range(math.ceil(len(X_train)//batch_size)):\n",
    "            optimizer.zero_grad()\n",
    "            x,y = X_train[(batch_count*batch_size):((batch_count+1)*batch_size)].float(), (Y_train[(batch_count*batch_size):((batch_count+1)*batch_size)] > threshold).float()\n",
    "            output = model(x)\n",
    "            batch_loss = ((y - output.squeeze())**2).mean() #loss(y, output.squeeze())\n",
    "            batch_loss.backward()\n",
    "            optimizer.step()\n",
    "\n",
    "            acc = (1.*(y == (1.*(output.squeeze() > 0.5)))).mean()\n",
    "\n",
    "            list_loss_train[epoch-1, batch_count] = batch_loss.item()\n",
    "            list_acc_train[epoch-1, batch_count]  =  acc.item()\n",
    "\n",
    "        with torch.no_grad():\n",
    "            optimizer.eval()\n",
    "            for batch_count in range(5):\n",
    "                x = X_train[(batch_count*batch_size):((batch_count+1)*batch_size)].float()\n",
    "                output = model(x)\n",
    "        model.eval()\n",
    "\n",
    "        #Test\n",
    "        for batch_count in range(math.ceil(len(X_test)//batch_size)):\n",
    "            x,y = X_test[(batch_count*batch_size):((batch_count+1)*batch_size)].float(), (Y_test[(batch_count*batch_size):((batch_count+1)*batch_size)] > threshold).float()\n",
    "            output = model(x.float())\n",
    "            batch_loss =  ((y - output.squeeze())**2).mean() #loss(y, output.squeeze())\n",
    "            acc = (1.*(y == (1.*(output.squeeze() > 0.5)))).mean()\n",
    "\n",
    "            list_loss_test[epoch-1, batch_count] = batch_loss.item()\n",
    "            list_acc_test[epoch-1, batch_count]  = acc.item()\n",
    "    return"
   ]
  },
  {
   "cell_type": "code",
   "execution_count": 12,
   "id": "98abb7a1",
   "metadata": {},
   "outputs": [],
   "source": [
    "list_true_DI, list_pred_DI, list_true_disparate_treatement, list_pred_disparate_treatement, list_true_P1, list_pred_P1, list_acc = [], [], [], [], [], [], []\n",
    "thresholds = np.arange(1000, 200000, 10000)\n",
    "for threshold in thresholds:\n",
    "    model = Network(X_train.shape[1], activation_bool = True)\n",
    "    optimizer = schedulefree.AdamWScheduleFree(model.parameters(), lr=0.001) #torch.optim.AdamW(model.parameters(), lr = 0.001)\n",
    "\n",
    "    label = (Y_test > threshold)*1.\n",
    "    group = S_test\n",
    "\n",
    "    training_network_threshold(model, optimizer, threshold = threshold)\n",
    "    pred = (model(X_test.float()).squeeze() > 0.5)*1.\n",
    "    acc = ( (pred == label)*1.).mean().item()\n",
    "\n",
    "    \n",
    "\n",
    "    list_true_P1.append(label.mean().item())\n",
    "    list_pred_P1.append(pred.mean().item())\n",
    "\n",
    "    list_true_DI.append(label[group==2].mean().item() / label[group==1].mean().item())\n",
    "    list_pred_DI.append(pred[group==2].mean().item() / pred[group==1].mean().item())\n",
    "\n",
    "    list_true_disparate_treatement.append(abs(label[group==2].mean().item() - label[group==1].mean().item()))\n",
    "    list_pred_disparate_treatement.append(abs(pred[group==2].mean().item() - pred[group==1].mean().item()))\n",
    "\n",
    "    list_acc.append(acc)\n"
   ]
  },
  {
   "cell_type": "markdown",
   "id": "3710d359",
   "metadata": {},
   "source": [
    "## Visual result"
   ]
  },
  {
   "cell_type": "code",
   "execution_count": 15,
   "id": "dd3070e9",
   "metadata": {},
   "outputs": [
    {
     "data": {
      "image/png": "[encoded data removed]",
      "text/plain": [
       "<Figure size 640x480 with 1 Axes>"
      ]
     },
     "metadata": {},
     "output_type": "display_data"
    }
   ],
   "source": [
    "plt.plot(thresholds, list_true_DI, label = 'Y Disparate Impact', color = 'blue', linestyle = 'dotted')\n",
    "plt.plot(thresholds, list_true_P1, label = 'Global Y mean', color = 'orange', linestyle = 'dotted')\n",
    "plt.plot(thresholds, list_true_disparate_treatement, label = 'Y Disparate Treatment', color = 'red', linestyle = 'dotted')\n",
    "plt.plot(thresholds, list_pred_DI, label = 'Pred Disparate Impact', color = 'blue')\n",
    "plt.plot(thresholds, list_pred_P1, label = 'Global Pred mean', color = 'orange')\n",
    "plt.plot(thresholds, list_pred_disparate_treatement, label = 'Pred Disparate Treatment', color = 'red')\n",
    "plt.plot(thresholds, list_acc, label = 'Accuracy', color = 'yellow')\n",
    "plt.xlabel('Income Thresholds')\n",
    "plt.ylabel('Disparity')\n",
    "plt.title('Disparity vs Income Thresholds')\n",
    "plt.legend()    \n",
    "plt.grid()\n",
    "plt.show()"
   ]
  }
 ],
 "metadata": {
  "kernelspec": {
   "display_name": "inspection",
   "language": "python",
   "name": "python3"
  },
  "language_info": {
   "codemirror_mode": {
    "name": "ipython",
    "version": 3
   },
   "file_extension": ".py",
   "mimetype": "text/x-python",
   "name": "python",
   "nbconvert_exporter": "python",
   "pygments_lexer": "ipython3",
   "version": "3.13.3"
  }
 },
 "nbformat": 4,
 "nbformat_minor": 5
}
